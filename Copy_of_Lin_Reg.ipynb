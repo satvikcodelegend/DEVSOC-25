{
  "cells": [
    {
      "cell_type": "markdown",
      "metadata": {
        "id": "view-in-github",
        "colab_type": "text"
      },
      "source": [
        "<a href=\"https://colab.research.google.com/github/satvikcodelegend/DEVSOC-25/blob/main/Copy_of_Lin_Reg.ipynb\" target=\"_parent\"><img src=\"https://colab.research.google.com/assets/colab-badge.svg\" alt=\"Open In Colab\"/></a>"
      ]
    },
    {
      "cell_type": "markdown",
      "source": [
        "# Linear Regression"
      ],
      "metadata": {
        "id": "LvkxJLK872xG"
      }
    },
    {
      "cell_type": "markdown",
      "source": [],
      "metadata": {
        "id": "uJEzeBaYrp3a"
      }
    },
    {
      "cell_type": "code",
      "execution_count": 6,
      "metadata": {
        "id": "ylSYM7srAaTK"
      },
      "outputs": [],
      "source": [
        "# Import the required libraries\n"
      ]
    },
    {
      "cell_type": "code",
      "source": [
        "import numpy as np\n",
        "import matplotlib.pyplot as plt\n",
        "from sklearn.model_selection import train_test_split\n",
        "import pandas as pd"
      ],
      "metadata": {
        "id": "mTiS0oaCCe9Q"
      },
      "execution_count": 24,
      "outputs": []
    },
    {
      "cell_type": "markdown",
      "metadata": {
        "id": "1d8TzpYrAaTK"
      },
      "source": [
        "## Data Preprocessing"
      ]
    },
    {
      "cell_type": "markdown",
      "metadata": {
        "id": "Ko0DUQMIAaTL"
      },
      "source": [
        "### **Exploring the dataset**"
      ]
    },
    {
      "cell_type": "markdown",
      "metadata": {
        "id": "PiIvXaDLAaTL"
      },
      "source": [
        "Let's start with loading the training data from the csv into a pandas dataframe"
      ]
    },
    {
      "cell_type": "markdown",
      "source": [
        "\n",
        "\n",
        "Load the datasets from GitHub. Train dataset has already been loaded for you in df below. To get test dataset use the commented code."
      ],
      "metadata": {
        "id": "CeVVY-uHrsqR"
      }
    },
    {
      "cell_type": "code",
      "execution_count": 25,
      "metadata": {
        "id": "dj_ZCCgTAaTL"
      },
      "outputs": [],
      "source": [
        "import pandas as pd\n",
        "df = pd.read_csv('https://raw.githubusercontent.com/cronan03/DevSoc_AI-ML/main/train_processed_splitted.csv')\n"
      ]
    },
    {
      "cell_type": "markdown",
      "metadata": {
        "id": "l5-4Ujl1AaTL"
      },
      "source": [
        "Let's see what the first 5 rows of this dataset looks like"
      ]
    },
    {
      "cell_type": "code",
      "execution_count": 26,
      "metadata": {
        "id": "-ieOW_eQAaTL",
        "colab": {
          "base_uri": "https://localhost:8080/",
          "height": 206
        },
        "outputId": "9434c790-17fa-4fd6-b65b-b49f10c87b27"
      },
      "outputs": [
        {
          "output_type": "execute_result",
          "data": {
            "text/plain": [
              "   LotArea  TotalBsmtSF  GrLivArea  GarageArea  PoolArea  OverallCond  \\\n",
              "0    11553         1051       1159         336         0            5   \n",
              "1     8400         1052       1052         288         0            5   \n",
              "2     8960         1008       1028         360         0            6   \n",
              "3    11100            0        930         308         0            7   \n",
              "4    15593         1304       2287         667         0            4   \n",
              "\n",
              "  Utilities  SalePrice  \n",
              "0    AllPub     158000  \n",
              "1    AllPub     138500  \n",
              "2    AllPub     115000  \n",
              "3    AllPub      84900  \n",
              "4    AllPub     225000  "
            ],
            "text/html": [
              "\n",
              "  <div id=\"df-39ec1bf9-5282-42e9-8d17-2ed1974be763\" class=\"colab-df-container\">\n",
              "    <div>\n",
              "<style scoped>\n",
              "    .dataframe tbody tr th:only-of-type {\n",
              "        vertical-align: middle;\n",
              "    }\n",
              "\n",
              "    .dataframe tbody tr th {\n",
              "        vertical-align: top;\n",
              "    }\n",
              "\n",
              "    .dataframe thead th {\n",
              "        text-align: right;\n",
              "    }\n",
              "</style>\n",
              "<table border=\"1\" class=\"dataframe\">\n",
              "  <thead>\n",
              "    <tr style=\"text-align: right;\">\n",
              "      <th></th>\n",
              "      <th>LotArea</th>\n",
              "      <th>TotalBsmtSF</th>\n",
              "      <th>GrLivArea</th>\n",
              "      <th>GarageArea</th>\n",
              "      <th>PoolArea</th>\n",
              "      <th>OverallCond</th>\n",
              "      <th>Utilities</th>\n",
              "      <th>SalePrice</th>\n",
              "    </tr>\n",
              "  </thead>\n",
              "  <tbody>\n",
              "    <tr>\n",
              "      <th>0</th>\n",
              "      <td>11553</td>\n",
              "      <td>1051</td>\n",
              "      <td>1159</td>\n",
              "      <td>336</td>\n",
              "      <td>0</td>\n",
              "      <td>5</td>\n",
              "      <td>AllPub</td>\n",
              "      <td>158000</td>\n",
              "    </tr>\n",
              "    <tr>\n",
              "      <th>1</th>\n",
              "      <td>8400</td>\n",
              "      <td>1052</td>\n",
              "      <td>1052</td>\n",
              "      <td>288</td>\n",
              "      <td>0</td>\n",
              "      <td>5</td>\n",
              "      <td>AllPub</td>\n",
              "      <td>138500</td>\n",
              "    </tr>\n",
              "    <tr>\n",
              "      <th>2</th>\n",
              "      <td>8960</td>\n",
              "      <td>1008</td>\n",
              "      <td>1028</td>\n",
              "      <td>360</td>\n",
              "      <td>0</td>\n",
              "      <td>6</td>\n",
              "      <td>AllPub</td>\n",
              "      <td>115000</td>\n",
              "    </tr>\n",
              "    <tr>\n",
              "      <th>3</th>\n",
              "      <td>11100</td>\n",
              "      <td>0</td>\n",
              "      <td>930</td>\n",
              "      <td>308</td>\n",
              "      <td>0</td>\n",
              "      <td>7</td>\n",
              "      <td>AllPub</td>\n",
              "      <td>84900</td>\n",
              "    </tr>\n",
              "    <tr>\n",
              "      <th>4</th>\n",
              "      <td>15593</td>\n",
              "      <td>1304</td>\n",
              "      <td>2287</td>\n",
              "      <td>667</td>\n",
              "      <td>0</td>\n",
              "      <td>4</td>\n",
              "      <td>AllPub</td>\n",
              "      <td>225000</td>\n",
              "    </tr>\n",
              "  </tbody>\n",
              "</table>\n",
              "</div>\n",
              "    <div class=\"colab-df-buttons\">\n",
              "\n",
              "  <div class=\"colab-df-container\">\n",
              "    <button class=\"colab-df-convert\" onclick=\"convertToInteractive('df-39ec1bf9-5282-42e9-8d17-2ed1974be763')\"\n",
              "            title=\"Convert this dataframe to an interactive table.\"\n",
              "            style=\"display:none;\">\n",
              "\n",
              "  <svg xmlns=\"http://www.w3.org/2000/svg\" height=\"24px\" viewBox=\"0 -960 960 960\">\n",
              "    <path d=\"M120-120v-720h720v720H120Zm60-500h600v-160H180v160Zm220 220h160v-160H400v160Zm0 220h160v-160H400v160ZM180-400h160v-160H180v160Zm440 0h160v-160H620v160ZM180-180h160v-160H180v160Zm440 0h160v-160H620v160Z\"/>\n",
              "  </svg>\n",
              "    </button>\n",
              "\n",
              "  <style>\n",
              "    .colab-df-container {\n",
              "      display:flex;\n",
              "      gap: 12px;\n",
              "    }\n",
              "\n",
              "    .colab-df-convert {\n",
              "      background-color: #E8F0FE;\n",
              "      border: none;\n",
              "      border-radius: 50%;\n",
              "      cursor: pointer;\n",
              "      display: none;\n",
              "      fill: #1967D2;\n",
              "      height: 32px;\n",
              "      padding: 0 0 0 0;\n",
              "      width: 32px;\n",
              "    }\n",
              "\n",
              "    .colab-df-convert:hover {\n",
              "      background-color: #E2EBFA;\n",
              "      box-shadow: 0px 1px 2px rgba(60, 64, 67, 0.3), 0px 1px 3px 1px rgba(60, 64, 67, 0.15);\n",
              "      fill: #174EA6;\n",
              "    }\n",
              "\n",
              "    .colab-df-buttons div {\n",
              "      margin-bottom: 4px;\n",
              "    }\n",
              "\n",
              "    [theme=dark] .colab-df-convert {\n",
              "      background-color: #3B4455;\n",
              "      fill: #D2E3FC;\n",
              "    }\n",
              "\n",
              "    [theme=dark] .colab-df-convert:hover {\n",
              "      background-color: #434B5C;\n",
              "      box-shadow: 0px 1px 3px 1px rgba(0, 0, 0, 0.15);\n",
              "      filter: drop-shadow(0px 1px 2px rgba(0, 0, 0, 0.3));\n",
              "      fill: #FFFFFF;\n",
              "    }\n",
              "  </style>\n",
              "\n",
              "    <script>\n",
              "      const buttonEl =\n",
              "        document.querySelector('#df-39ec1bf9-5282-42e9-8d17-2ed1974be763 button.colab-df-convert');\n",
              "      buttonEl.style.display =\n",
              "        google.colab.kernel.accessAllowed ? 'block' : 'none';\n",
              "\n",
              "      async function convertToInteractive(key) {\n",
              "        const element = document.querySelector('#df-39ec1bf9-5282-42e9-8d17-2ed1974be763');\n",
              "        const dataTable =\n",
              "          await google.colab.kernel.invokeFunction('convertToInteractive',\n",
              "                                                    [key], {});\n",
              "        if (!dataTable) return;\n",
              "\n",
              "        const docLinkHtml = 'Like what you see? Visit the ' +\n",
              "          '<a target=\"_blank\" href=https://colab.research.google.com/notebooks/data_table.ipynb>data table notebook</a>'\n",
              "          + ' to learn more about interactive tables.';\n",
              "        element.innerHTML = '';\n",
              "        dataTable['output_type'] = 'display_data';\n",
              "        await google.colab.output.renderOutput(dataTable, element);\n",
              "        const docLink = document.createElement('div');\n",
              "        docLink.innerHTML = docLinkHtml;\n",
              "        element.appendChild(docLink);\n",
              "      }\n",
              "    </script>\n",
              "  </div>\n",
              "\n",
              "\n",
              "    <div id=\"df-1e3a64f3-fd73-4a9a-9982-62666e13c52f\">\n",
              "      <button class=\"colab-df-quickchart\" onclick=\"quickchart('df-1e3a64f3-fd73-4a9a-9982-62666e13c52f')\"\n",
              "                title=\"Suggest charts\"\n",
              "                style=\"display:none;\">\n",
              "\n",
              "<svg xmlns=\"http://www.w3.org/2000/svg\" height=\"24px\"viewBox=\"0 0 24 24\"\n",
              "     width=\"24px\">\n",
              "    <g>\n",
              "        <path d=\"M19 3H5c-1.1 0-2 .9-2 2v14c0 1.1.9 2 2 2h14c1.1 0 2-.9 2-2V5c0-1.1-.9-2-2-2zM9 17H7v-7h2v7zm4 0h-2V7h2v10zm4 0h-2v-4h2v4z\"/>\n",
              "    </g>\n",
              "</svg>\n",
              "      </button>\n",
              "\n",
              "<style>\n",
              "  .colab-df-quickchart {\n",
              "      --bg-color: #E8F0FE;\n",
              "      --fill-color: #1967D2;\n",
              "      --hover-bg-color: #E2EBFA;\n",
              "      --hover-fill-color: #174EA6;\n",
              "      --disabled-fill-color: #AAA;\n",
              "      --disabled-bg-color: #DDD;\n",
              "  }\n",
              "\n",
              "  [theme=dark] .colab-df-quickchart {\n",
              "      --bg-color: #3B4455;\n",
              "      --fill-color: #D2E3FC;\n",
              "      --hover-bg-color: #434B5C;\n",
              "      --hover-fill-color: #FFFFFF;\n",
              "      --disabled-bg-color: #3B4455;\n",
              "      --disabled-fill-color: #666;\n",
              "  }\n",
              "\n",
              "  .colab-df-quickchart {\n",
              "    background-color: var(--bg-color);\n",
              "    border: none;\n",
              "    border-radius: 50%;\n",
              "    cursor: pointer;\n",
              "    display: none;\n",
              "    fill: var(--fill-color);\n",
              "    height: 32px;\n",
              "    padding: 0;\n",
              "    width: 32px;\n",
              "  }\n",
              "\n",
              "  .colab-df-quickchart:hover {\n",
              "    background-color: var(--hover-bg-color);\n",
              "    box-shadow: 0 1px 2px rgba(60, 64, 67, 0.3), 0 1px 3px 1px rgba(60, 64, 67, 0.15);\n",
              "    fill: var(--button-hover-fill-color);\n",
              "  }\n",
              "\n",
              "  .colab-df-quickchart-complete:disabled,\n",
              "  .colab-df-quickchart-complete:disabled:hover {\n",
              "    background-color: var(--disabled-bg-color);\n",
              "    fill: var(--disabled-fill-color);\n",
              "    box-shadow: none;\n",
              "  }\n",
              "\n",
              "  .colab-df-spinner {\n",
              "    border: 2px solid var(--fill-color);\n",
              "    border-color: transparent;\n",
              "    border-bottom-color: var(--fill-color);\n",
              "    animation:\n",
              "      spin 1s steps(1) infinite;\n",
              "  }\n",
              "\n",
              "  @keyframes spin {\n",
              "    0% {\n",
              "      border-color: transparent;\n",
              "      border-bottom-color: var(--fill-color);\n",
              "      border-left-color: var(--fill-color);\n",
              "    }\n",
              "    20% {\n",
              "      border-color: transparent;\n",
              "      border-left-color: var(--fill-color);\n",
              "      border-top-color: var(--fill-color);\n",
              "    }\n",
              "    30% {\n",
              "      border-color: transparent;\n",
              "      border-left-color: var(--fill-color);\n",
              "      border-top-color: var(--fill-color);\n",
              "      border-right-color: var(--fill-color);\n",
              "    }\n",
              "    40% {\n",
              "      border-color: transparent;\n",
              "      border-right-color: var(--fill-color);\n",
              "      border-top-color: var(--fill-color);\n",
              "    }\n",
              "    60% {\n",
              "      border-color: transparent;\n",
              "      border-right-color: var(--fill-color);\n",
              "    }\n",
              "    80% {\n",
              "      border-color: transparent;\n",
              "      border-right-color: var(--fill-color);\n",
              "      border-bottom-color: var(--fill-color);\n",
              "    }\n",
              "    90% {\n",
              "      border-color: transparent;\n",
              "      border-bottom-color: var(--fill-color);\n",
              "    }\n",
              "  }\n",
              "</style>\n",
              "\n",
              "      <script>\n",
              "        async function quickchart(key) {\n",
              "          const quickchartButtonEl =\n",
              "            document.querySelector('#' + key + ' button');\n",
              "          quickchartButtonEl.disabled = true;  // To prevent multiple clicks.\n",
              "          quickchartButtonEl.classList.add('colab-df-spinner');\n",
              "          try {\n",
              "            const charts = await google.colab.kernel.invokeFunction(\n",
              "                'suggestCharts', [key], {});\n",
              "          } catch (error) {\n",
              "            console.error('Error during call to suggestCharts:', error);\n",
              "          }\n",
              "          quickchartButtonEl.classList.remove('colab-df-spinner');\n",
              "          quickchartButtonEl.classList.add('colab-df-quickchart-complete');\n",
              "        }\n",
              "        (() => {\n",
              "          let quickchartButtonEl =\n",
              "            document.querySelector('#df-1e3a64f3-fd73-4a9a-9982-62666e13c52f button');\n",
              "          quickchartButtonEl.style.display =\n",
              "            google.colab.kernel.accessAllowed ? 'block' : 'none';\n",
              "        })();\n",
              "      </script>\n",
              "    </div>\n",
              "\n",
              "    </div>\n",
              "  </div>\n"
            ],
            "application/vnd.google.colaboratory.intrinsic+json": {
              "type": "dataframe",
              "variable_name": "df",
              "summary": "{\n  \"name\": \"df\",\n  \"rows\": 1314,\n  \"fields\": [\n    {\n      \"column\": \"LotArea\",\n      \"properties\": {\n        \"dtype\": \"number\",\n        \"std\": 10430,\n        \"min\": 1300,\n        \"max\": 215245,\n        \"num_unique_values\": 977,\n        \"samples\": [\n          7851,\n          10846,\n          13346\n        ],\n        \"semantic_type\": \"\",\n        \"description\": \"\"\n      }\n    },\n    {\n      \"column\": \"TotalBsmtSF\",\n      \"properties\": {\n        \"dtype\": \"number\",\n        \"std\": 435,\n        \"min\": 0,\n        \"max\": 6110,\n        \"num_unique_values\": 674,\n        \"samples\": [\n          1277,\n          1500,\n          1340\n        ],\n        \"semantic_type\": \"\",\n        \"description\": \"\"\n      }\n    },\n    {\n      \"column\": \"GrLivArea\",\n      \"properties\": {\n        \"dtype\": \"number\",\n        \"std\": 524,\n        \"min\": 334,\n        \"max\": 5642,\n        \"num_unique_values\": 810,\n        \"samples\": [\n          1474,\n          1804,\n          3194\n        ],\n        \"semantic_type\": \"\",\n        \"description\": \"\"\n      }\n    },\n    {\n      \"column\": \"GarageArea\",\n      \"properties\": {\n        \"dtype\": \"number\",\n        \"std\": 213,\n        \"min\": 0,\n        \"max\": 1418,\n        \"num_unique_values\": 419,\n        \"samples\": [\n          495,\n          458,\n          936\n        ],\n        \"semantic_type\": \"\",\n        \"description\": \"\"\n      }\n    },\n    {\n      \"column\": \"PoolArea\",\n      \"properties\": {\n        \"dtype\": \"number\",\n        \"std\": 39,\n        \"min\": 0,\n        \"max\": 738,\n        \"num_unique_values\": 7,\n        \"samples\": [\n          0,\n          648,\n          480\n        ],\n        \"semantic_type\": \"\",\n        \"description\": \"\"\n      }\n    },\n    {\n      \"column\": \"OverallCond\",\n      \"properties\": {\n        \"dtype\": \"number\",\n        \"std\": 1,\n        \"min\": 1,\n        \"max\": 9,\n        \"num_unique_values\": 9,\n        \"samples\": [\n          9,\n          6,\n          1\n        ],\n        \"semantic_type\": \"\",\n        \"description\": \"\"\n      }\n    },\n    {\n      \"column\": \"Utilities\",\n      \"properties\": {\n        \"dtype\": \"category\",\n        \"num_unique_values\": 2,\n        \"samples\": [\n          \"NoSeWa\",\n          \"AllPub\"\n        ],\n        \"semantic_type\": \"\",\n        \"description\": \"\"\n      }\n    },\n    {\n      \"column\": \"SalePrice\",\n      \"properties\": {\n        \"dtype\": \"number\",\n        \"std\": 77511,\n        \"min\": 34900,\n        \"max\": 755000,\n        \"num_unique_values\": 626,\n        \"samples\": [\n          611657,\n          157000\n        ],\n        \"semantic_type\": \"\",\n        \"description\": \"\"\n      }\n    }\n  ]\n}"
            }
          },
          "metadata": {},
          "execution_count": 26
        }
      ],
      "source": [
        "df.head()"
      ]
    },
    {
      "cell_type": "markdown",
      "metadata": {
        "id": "LNnfJbohAaTM"
      },
      "source": [
        "What are all the features present? What is the range for each of the features along with their mean?"
      ]
    },
    {
      "cell_type": "code",
      "execution_count": 27,
      "metadata": {
        "id": "i0e6ZqO6AaTM"
      },
      "outputs": [],
      "source": [
        "df = pd.read_csv('https://raw.githubusercontent.com/cronan03/DevSoc_AI-ML/main/train_processed_splitted.csv')\n",
        "\n",
        "X = df.drop('SalePrice', axis=1)\n",
        "y = df['SalePrice']"
      ]
    },
    {
      "cell_type": "markdown",
      "metadata": {
        "id": "8Hjdd5Y5AaTM"
      },
      "source": [
        "### **Feature Scaling and One-Hot Encoding**"
      ]
    },
    {
      "cell_type": "markdown",
      "metadata": {
        "id": "J3ls8u3hAaTM"
      },
      "source": [
        "You must have noticed that some features `(such as Utilities)` are not continuous values.\n",
        "  \n",
        "These features contain values indicating different categories and must somehow be converted to numbers so that the computer can understand it. `(Computers only understand numbers and not strings)`\n",
        "  \n",
        "These features are called categorical features. We can represent these features as a `One-Hot Representation`\n",
        "  \n",
        "  \n",
        "You must have also noticed that all the other features, each are in a different scale. This can be detremental to the performance of our linear regression model and so we normalize them so that all of them are in the range $[0,1]$"
      ]
    },
    {
      "cell_type": "markdown",
      "metadata": {
        "id": "yeoczqQIAaTM"
      },
      "source": [
        "> NOTE: When you are doing feature scaling, store the min/max which you will use to normalize somewhere. This is then to be used at testing time. Try to think why are doing this?"
      ]
    },
    {
      "cell_type": "code",
      "execution_count": 28,
      "metadata": {
        "id": "W17LZP2qAaTN",
        "colab": {
          "base_uri": "https://localhost:8080/",
          "height": 424
        },
        "outputId": "5c795afa-14a0-4589-d662-a28229a02712"
      },
      "outputs": [
        {
          "output_type": "execute_result",
          "data": {
            "text/plain": [
              "      LotArea  TotalBsmtSF  GrLivArea  GarageArea  PoolArea  OverallCond  \\\n",
              "0       11553         1051       1159         336         0            5   \n",
              "1        8400         1052       1052         288         0            5   \n",
              "2        8960         1008       1028         360         0            6   \n",
              "3       11100            0        930         308         0            7   \n",
              "4       15593         1304       2287         667         0            4   \n",
              "...       ...          ...        ...         ...       ...          ...   \n",
              "1309     9020         1127       1165         490         0            7   \n",
              "1310    10793          780       1620         462         0            5   \n",
              "1311     8885          864        902         484         0            5   \n",
              "1312    11275          710       2978         564         0            7   \n",
              "1313    10206            0        944         528         0            3   \n",
              "\n",
              "      SalePrice  Utilities_NoSeWa  \n",
              "0        158000             False  \n",
              "1        138500             False  \n",
              "2        115000             False  \n",
              "3         84900             False  \n",
              "4        225000             False  \n",
              "...         ...               ...  \n",
              "1309     174900             False  \n",
              "1310     152000             False  \n",
              "1311     131000             False  \n",
              "1312     242000             False  \n",
              "1313      82000             False  \n",
              "\n",
              "[1314 rows x 8 columns]"
            ],
            "text/html": [
              "\n",
              "  <div id=\"df-c9d62daa-e3cb-4a3f-8eb6-321e43cbff6c\" class=\"colab-df-container\">\n",
              "    <div>\n",
              "<style scoped>\n",
              "    .dataframe tbody tr th:only-of-type {\n",
              "        vertical-align: middle;\n",
              "    }\n",
              "\n",
              "    .dataframe tbody tr th {\n",
              "        vertical-align: top;\n",
              "    }\n",
              "\n",
              "    .dataframe thead th {\n",
              "        text-align: right;\n",
              "    }\n",
              "</style>\n",
              "<table border=\"1\" class=\"dataframe\">\n",
              "  <thead>\n",
              "    <tr style=\"text-align: right;\">\n",
              "      <th></th>\n",
              "      <th>LotArea</th>\n",
              "      <th>TotalBsmtSF</th>\n",
              "      <th>GrLivArea</th>\n",
              "      <th>GarageArea</th>\n",
              "      <th>PoolArea</th>\n",
              "      <th>OverallCond</th>\n",
              "      <th>SalePrice</th>\n",
              "      <th>Utilities_NoSeWa</th>\n",
              "    </tr>\n",
              "  </thead>\n",
              "  <tbody>\n",
              "    <tr>\n",
              "      <th>0</th>\n",
              "      <td>11553</td>\n",
              "      <td>1051</td>\n",
              "      <td>1159</td>\n",
              "      <td>336</td>\n",
              "      <td>0</td>\n",
              "      <td>5</td>\n",
              "      <td>158000</td>\n",
              "      <td>False</td>\n",
              "    </tr>\n",
              "    <tr>\n",
              "      <th>1</th>\n",
              "      <td>8400</td>\n",
              "      <td>1052</td>\n",
              "      <td>1052</td>\n",
              "      <td>288</td>\n",
              "      <td>0</td>\n",
              "      <td>5</td>\n",
              "      <td>138500</td>\n",
              "      <td>False</td>\n",
              "    </tr>\n",
              "    <tr>\n",
              "      <th>2</th>\n",
              "      <td>8960</td>\n",
              "      <td>1008</td>\n",
              "      <td>1028</td>\n",
              "      <td>360</td>\n",
              "      <td>0</td>\n",
              "      <td>6</td>\n",
              "      <td>115000</td>\n",
              "      <td>False</td>\n",
              "    </tr>\n",
              "    <tr>\n",
              "      <th>3</th>\n",
              "      <td>11100</td>\n",
              "      <td>0</td>\n",
              "      <td>930</td>\n",
              "      <td>308</td>\n",
              "      <td>0</td>\n",
              "      <td>7</td>\n",
              "      <td>84900</td>\n",
              "      <td>False</td>\n",
              "    </tr>\n",
              "    <tr>\n",
              "      <th>4</th>\n",
              "      <td>15593</td>\n",
              "      <td>1304</td>\n",
              "      <td>2287</td>\n",
              "      <td>667</td>\n",
              "      <td>0</td>\n",
              "      <td>4</td>\n",
              "      <td>225000</td>\n",
              "      <td>False</td>\n",
              "    </tr>\n",
              "    <tr>\n",
              "      <th>...</th>\n",
              "      <td>...</td>\n",
              "      <td>...</td>\n",
              "      <td>...</td>\n",
              "      <td>...</td>\n",
              "      <td>...</td>\n",
              "      <td>...</td>\n",
              "      <td>...</td>\n",
              "      <td>...</td>\n",
              "    </tr>\n",
              "    <tr>\n",
              "      <th>1309</th>\n",
              "      <td>9020</td>\n",
              "      <td>1127</td>\n",
              "      <td>1165</td>\n",
              "      <td>490</td>\n",
              "      <td>0</td>\n",
              "      <td>7</td>\n",
              "      <td>174900</td>\n",
              "      <td>False</td>\n",
              "    </tr>\n",
              "    <tr>\n",
              "      <th>1310</th>\n",
              "      <td>10793</td>\n",
              "      <td>780</td>\n",
              "      <td>1620</td>\n",
              "      <td>462</td>\n",
              "      <td>0</td>\n",
              "      <td>5</td>\n",
              "      <td>152000</td>\n",
              "      <td>False</td>\n",
              "    </tr>\n",
              "    <tr>\n",
              "      <th>1311</th>\n",
              "      <td>8885</td>\n",
              "      <td>864</td>\n",
              "      <td>902</td>\n",
              "      <td>484</td>\n",
              "      <td>0</td>\n",
              "      <td>5</td>\n",
              "      <td>131000</td>\n",
              "      <td>False</td>\n",
              "    </tr>\n",
              "    <tr>\n",
              "      <th>1312</th>\n",
              "      <td>11275</td>\n",
              "      <td>710</td>\n",
              "      <td>2978</td>\n",
              "      <td>564</td>\n",
              "      <td>0</td>\n",
              "      <td>7</td>\n",
              "      <td>242000</td>\n",
              "      <td>False</td>\n",
              "    </tr>\n",
              "    <tr>\n",
              "      <th>1313</th>\n",
              "      <td>10206</td>\n",
              "      <td>0</td>\n",
              "      <td>944</td>\n",
              "      <td>528</td>\n",
              "      <td>0</td>\n",
              "      <td>3</td>\n",
              "      <td>82000</td>\n",
              "      <td>False</td>\n",
              "    </tr>\n",
              "  </tbody>\n",
              "</table>\n",
              "<p>1314 rows × 8 columns</p>\n",
              "</div>\n",
              "    <div class=\"colab-df-buttons\">\n",
              "\n",
              "  <div class=\"colab-df-container\">\n",
              "    <button class=\"colab-df-convert\" onclick=\"convertToInteractive('df-c9d62daa-e3cb-4a3f-8eb6-321e43cbff6c')\"\n",
              "            title=\"Convert this dataframe to an interactive table.\"\n",
              "            style=\"display:none;\">\n",
              "\n",
              "  <svg xmlns=\"http://www.w3.org/2000/svg\" height=\"24px\" viewBox=\"0 -960 960 960\">\n",
              "    <path d=\"M120-120v-720h720v720H120Zm60-500h600v-160H180v160Zm220 220h160v-160H400v160Zm0 220h160v-160H400v160ZM180-400h160v-160H180v160Zm440 0h160v-160H620v160ZM180-180h160v-160H180v160Zm440 0h160v-160H620v160Z\"/>\n",
              "  </svg>\n",
              "    </button>\n",
              "\n",
              "  <style>\n",
              "    .colab-df-container {\n",
              "      display:flex;\n",
              "      gap: 12px;\n",
              "    }\n",
              "\n",
              "    .colab-df-convert {\n",
              "      background-color: #E8F0FE;\n",
              "      border: none;\n",
              "      border-radius: 50%;\n",
              "      cursor: pointer;\n",
              "      display: none;\n",
              "      fill: #1967D2;\n",
              "      height: 32px;\n",
              "      padding: 0 0 0 0;\n",
              "      width: 32px;\n",
              "    }\n",
              "\n",
              "    .colab-df-convert:hover {\n",
              "      background-color: #E2EBFA;\n",
              "      box-shadow: 0px 1px 2px rgba(60, 64, 67, 0.3), 0px 1px 3px 1px rgba(60, 64, 67, 0.15);\n",
              "      fill: #174EA6;\n",
              "    }\n",
              "\n",
              "    .colab-df-buttons div {\n",
              "      margin-bottom: 4px;\n",
              "    }\n",
              "\n",
              "    [theme=dark] .colab-df-convert {\n",
              "      background-color: #3B4455;\n",
              "      fill: #D2E3FC;\n",
              "    }\n",
              "\n",
              "    [theme=dark] .colab-df-convert:hover {\n",
              "      background-color: #434B5C;\n",
              "      box-shadow: 0px 1px 3px 1px rgba(0, 0, 0, 0.15);\n",
              "      filter: drop-shadow(0px 1px 2px rgba(0, 0, 0, 0.3));\n",
              "      fill: #FFFFFF;\n",
              "    }\n",
              "  </style>\n",
              "\n",
              "    <script>\n",
              "      const buttonEl =\n",
              "        document.querySelector('#df-c9d62daa-e3cb-4a3f-8eb6-321e43cbff6c button.colab-df-convert');\n",
              "      buttonEl.style.display =\n",
              "        google.colab.kernel.accessAllowed ? 'block' : 'none';\n",
              "\n",
              "      async function convertToInteractive(key) {\n",
              "        const element = document.querySelector('#df-c9d62daa-e3cb-4a3f-8eb6-321e43cbff6c');\n",
              "        const dataTable =\n",
              "          await google.colab.kernel.invokeFunction('convertToInteractive',\n",
              "                                                    [key], {});\n",
              "        if (!dataTable) return;\n",
              "\n",
              "        const docLinkHtml = 'Like what you see? Visit the ' +\n",
              "          '<a target=\"_blank\" href=https://colab.research.google.com/notebooks/data_table.ipynb>data table notebook</a>'\n",
              "          + ' to learn more about interactive tables.';\n",
              "        element.innerHTML = '';\n",
              "        dataTable['output_type'] = 'display_data';\n",
              "        await google.colab.output.renderOutput(dataTable, element);\n",
              "        const docLink = document.createElement('div');\n",
              "        docLink.innerHTML = docLinkHtml;\n",
              "        element.appendChild(docLink);\n",
              "      }\n",
              "    </script>\n",
              "  </div>\n",
              "\n",
              "\n",
              "    <div id=\"df-db680517-e325-4cd1-934f-dfb9c55e09af\">\n",
              "      <button class=\"colab-df-quickchart\" onclick=\"quickchart('df-db680517-e325-4cd1-934f-dfb9c55e09af')\"\n",
              "                title=\"Suggest charts\"\n",
              "                style=\"display:none;\">\n",
              "\n",
              "<svg xmlns=\"http://www.w3.org/2000/svg\" height=\"24px\"viewBox=\"0 0 24 24\"\n",
              "     width=\"24px\">\n",
              "    <g>\n",
              "        <path d=\"M19 3H5c-1.1 0-2 .9-2 2v14c0 1.1.9 2 2 2h14c1.1 0 2-.9 2-2V5c0-1.1-.9-2-2-2zM9 17H7v-7h2v7zm4 0h-2V7h2v10zm4 0h-2v-4h2v4z\"/>\n",
              "    </g>\n",
              "</svg>\n",
              "      </button>\n",
              "\n",
              "<style>\n",
              "  .colab-df-quickchart {\n",
              "      --bg-color: #E8F0FE;\n",
              "      --fill-color: #1967D2;\n",
              "      --hover-bg-color: #E2EBFA;\n",
              "      --hover-fill-color: #174EA6;\n",
              "      --disabled-fill-color: #AAA;\n",
              "      --disabled-bg-color: #DDD;\n",
              "  }\n",
              "\n",
              "  [theme=dark] .colab-df-quickchart {\n",
              "      --bg-color: #3B4455;\n",
              "      --fill-color: #D2E3FC;\n",
              "      --hover-bg-color: #434B5C;\n",
              "      --hover-fill-color: #FFFFFF;\n",
              "      --disabled-bg-color: #3B4455;\n",
              "      --disabled-fill-color: #666;\n",
              "  }\n",
              "\n",
              "  .colab-df-quickchart {\n",
              "    background-color: var(--bg-color);\n",
              "    border: none;\n",
              "    border-radius: 50%;\n",
              "    cursor: pointer;\n",
              "    display: none;\n",
              "    fill: var(--fill-color);\n",
              "    height: 32px;\n",
              "    padding: 0;\n",
              "    width: 32px;\n",
              "  }\n",
              "\n",
              "  .colab-df-quickchart:hover {\n",
              "    background-color: var(--hover-bg-color);\n",
              "    box-shadow: 0 1px 2px rgba(60, 64, 67, 0.3), 0 1px 3px 1px rgba(60, 64, 67, 0.15);\n",
              "    fill: var(--button-hover-fill-color);\n",
              "  }\n",
              "\n",
              "  .colab-df-quickchart-complete:disabled,\n",
              "  .colab-df-quickchart-complete:disabled:hover {\n",
              "    background-color: var(--disabled-bg-color);\n",
              "    fill: var(--disabled-fill-color);\n",
              "    box-shadow: none;\n",
              "  }\n",
              "\n",
              "  .colab-df-spinner {\n",
              "    border: 2px solid var(--fill-color);\n",
              "    border-color: transparent;\n",
              "    border-bottom-color: var(--fill-color);\n",
              "    animation:\n",
              "      spin 1s steps(1) infinite;\n",
              "  }\n",
              "\n",
              "  @keyframes spin {\n",
              "    0% {\n",
              "      border-color: transparent;\n",
              "      border-bottom-color: var(--fill-color);\n",
              "      border-left-color: var(--fill-color);\n",
              "    }\n",
              "    20% {\n",
              "      border-color: transparent;\n",
              "      border-left-color: var(--fill-color);\n",
              "      border-top-color: var(--fill-color);\n",
              "    }\n",
              "    30% {\n",
              "      border-color: transparent;\n",
              "      border-left-color: var(--fill-color);\n",
              "      border-top-color: var(--fill-color);\n",
              "      border-right-color: var(--fill-color);\n",
              "    }\n",
              "    40% {\n",
              "      border-color: transparent;\n",
              "      border-right-color: var(--fill-color);\n",
              "      border-top-color: var(--fill-color);\n",
              "    }\n",
              "    60% {\n",
              "      border-color: transparent;\n",
              "      border-right-color: var(--fill-color);\n",
              "    }\n",
              "    80% {\n",
              "      border-color: transparent;\n",
              "      border-right-color: var(--fill-color);\n",
              "      border-bottom-color: var(--fill-color);\n",
              "    }\n",
              "    90% {\n",
              "      border-color: transparent;\n",
              "      border-bottom-color: var(--fill-color);\n",
              "    }\n",
              "  }\n",
              "</style>\n",
              "\n",
              "      <script>\n",
              "        async function quickchart(key) {\n",
              "          const quickchartButtonEl =\n",
              "            document.querySelector('#' + key + ' button');\n",
              "          quickchartButtonEl.disabled = true;  // To prevent multiple clicks.\n",
              "          quickchartButtonEl.classList.add('colab-df-spinner');\n",
              "          try {\n",
              "            const charts = await google.colab.kernel.invokeFunction(\n",
              "                'suggestCharts', [key], {});\n",
              "          } catch (error) {\n",
              "            console.error('Error during call to suggestCharts:', error);\n",
              "          }\n",
              "          quickchartButtonEl.classList.remove('colab-df-spinner');\n",
              "          quickchartButtonEl.classList.add('colab-df-quickchart-complete');\n",
              "        }\n",
              "        (() => {\n",
              "          let quickchartButtonEl =\n",
              "            document.querySelector('#df-db680517-e325-4cd1-934f-dfb9c55e09af button');\n",
              "          quickchartButtonEl.style.display =\n",
              "            google.colab.kernel.accessAllowed ? 'block' : 'none';\n",
              "        })();\n",
              "      </script>\n",
              "    </div>\n",
              "\n",
              "    </div>\n",
              "  </div>\n"
            ],
            "application/vnd.google.colaboratory.intrinsic+json": {
              "type": "dataframe",
              "summary": "{\n  \"name\": \"pd\",\n  \"rows\": 1314,\n  \"fields\": [\n    {\n      \"column\": \"LotArea\",\n      \"properties\": {\n        \"dtype\": \"number\",\n        \"std\": 10430,\n        \"min\": 1300,\n        \"max\": 215245,\n        \"num_unique_values\": 977,\n        \"samples\": [\n          7851,\n          10846,\n          13346\n        ],\n        \"semantic_type\": \"\",\n        \"description\": \"\"\n      }\n    },\n    {\n      \"column\": \"TotalBsmtSF\",\n      \"properties\": {\n        \"dtype\": \"number\",\n        \"std\": 435,\n        \"min\": 0,\n        \"max\": 6110,\n        \"num_unique_values\": 674,\n        \"samples\": [\n          1277,\n          1500,\n          1340\n        ],\n        \"semantic_type\": \"\",\n        \"description\": \"\"\n      }\n    },\n    {\n      \"column\": \"GrLivArea\",\n      \"properties\": {\n        \"dtype\": \"number\",\n        \"std\": 524,\n        \"min\": 334,\n        \"max\": 5642,\n        \"num_unique_values\": 810,\n        \"samples\": [\n          1474,\n          1804,\n          3194\n        ],\n        \"semantic_type\": \"\",\n        \"description\": \"\"\n      }\n    },\n    {\n      \"column\": \"GarageArea\",\n      \"properties\": {\n        \"dtype\": \"number\",\n        \"std\": 213,\n        \"min\": 0,\n        \"max\": 1418,\n        \"num_unique_values\": 419,\n        \"samples\": [\n          495,\n          458,\n          936\n        ],\n        \"semantic_type\": \"\",\n        \"description\": \"\"\n      }\n    },\n    {\n      \"column\": \"PoolArea\",\n      \"properties\": {\n        \"dtype\": \"number\",\n        \"std\": 39,\n        \"min\": 0,\n        \"max\": 738,\n        \"num_unique_values\": 7,\n        \"samples\": [\n          0,\n          648,\n          480\n        ],\n        \"semantic_type\": \"\",\n        \"description\": \"\"\n      }\n    },\n    {\n      \"column\": \"OverallCond\",\n      \"properties\": {\n        \"dtype\": \"number\",\n        \"std\": 1,\n        \"min\": 1,\n        \"max\": 9,\n        \"num_unique_values\": 9,\n        \"samples\": [\n          9,\n          6,\n          1\n        ],\n        \"semantic_type\": \"\",\n        \"description\": \"\"\n      }\n    },\n    {\n      \"column\": \"SalePrice\",\n      \"properties\": {\n        \"dtype\": \"number\",\n        \"std\": 77511,\n        \"min\": 34900,\n        \"max\": 755000,\n        \"num_unique_values\": 626,\n        \"samples\": [\n          611657,\n          157000,\n          155000\n        ],\n        \"semantic_type\": \"\",\n        \"description\": \"\"\n      }\n    },\n    {\n      \"column\": \"Utilities_NoSeWa\",\n      \"properties\": {\n        \"dtype\": \"boolean\",\n        \"num_unique_values\": 2,\n        \"samples\": [\n          true,\n          false\n        ],\n        \"semantic_type\": \"\",\n        \"description\": \"\"\n      }\n    }\n  ]\n}"
            }
          },
          "metadata": {},
          "execution_count": 28
        }
      ],
      "source": [
        "# Do the one-hot encoding here\n",
        "pd.get_dummies(df, columns=['Utilities'], drop_first=True)"
      ]
    },
    {
      "cell_type": "code",
      "execution_count": 29,
      "metadata": {
        "id": "gG7rV9TCAaTN",
        "colab": {
          "base_uri": "https://localhost:8080/",
          "height": 206
        },
        "outputId": "c408da5e-681d-434d-ef6f-246bf42c3901"
      },
      "outputs": [
        {
          "output_type": "display_data",
          "data": {
            "text/plain": [
              "    LotArea  TotalBsmtSF  GrLivArea  GarageArea  PoolArea  OverallCond  \\\n",
              "0  0.089284    -0.016786  -0.674540   -0.642793 -0.066932    -0.523424   \n",
              "1 -0.213127    -0.014490  -0.878483   -0.867218 -0.066932    -0.523424   \n",
              "2 -0.159416    -0.115512  -0.924228   -0.530580 -0.066932     0.375634   \n",
              "3  0.045836    -2.429816  -1.111017   -0.773707 -0.066932     1.274692   \n",
              "4  0.476769     0.564086   1.475446    0.904807 -0.066932    -1.422482   \n",
              "\n",
              "  Utilities  \n",
              "0    AllPub  \n",
              "1    AllPub  \n",
              "2    AllPub  \n",
              "3    AllPub  \n",
              "4    AllPub  "
            ],
            "text/html": [
              "\n",
              "  <div id=\"df-4d232bac-cbfb-40d9-95d4-8aa84d651af3\" class=\"colab-df-container\">\n",
              "    <div>\n",
              "<style scoped>\n",
              "    .dataframe tbody tr th:only-of-type {\n",
              "        vertical-align: middle;\n",
              "    }\n",
              "\n",
              "    .dataframe tbody tr th {\n",
              "        vertical-align: top;\n",
              "    }\n",
              "\n",
              "    .dataframe thead th {\n",
              "        text-align: right;\n",
              "    }\n",
              "</style>\n",
              "<table border=\"1\" class=\"dataframe\">\n",
              "  <thead>\n",
              "    <tr style=\"text-align: right;\">\n",
              "      <th></th>\n",
              "      <th>LotArea</th>\n",
              "      <th>TotalBsmtSF</th>\n",
              "      <th>GrLivArea</th>\n",
              "      <th>GarageArea</th>\n",
              "      <th>PoolArea</th>\n",
              "      <th>OverallCond</th>\n",
              "      <th>Utilities</th>\n",
              "    </tr>\n",
              "  </thead>\n",
              "  <tbody>\n",
              "    <tr>\n",
              "      <th>0</th>\n",
              "      <td>0.089284</td>\n",
              "      <td>-0.016786</td>\n",
              "      <td>-0.674540</td>\n",
              "      <td>-0.642793</td>\n",
              "      <td>-0.066932</td>\n",
              "      <td>-0.523424</td>\n",
              "      <td>AllPub</td>\n",
              "    </tr>\n",
              "    <tr>\n",
              "      <th>1</th>\n",
              "      <td>-0.213127</td>\n",
              "      <td>-0.014490</td>\n",
              "      <td>-0.878483</td>\n",
              "      <td>-0.867218</td>\n",
              "      <td>-0.066932</td>\n",
              "      <td>-0.523424</td>\n",
              "      <td>AllPub</td>\n",
              "    </tr>\n",
              "    <tr>\n",
              "      <th>2</th>\n",
              "      <td>-0.159416</td>\n",
              "      <td>-0.115512</td>\n",
              "      <td>-0.924228</td>\n",
              "      <td>-0.530580</td>\n",
              "      <td>-0.066932</td>\n",
              "      <td>0.375634</td>\n",
              "      <td>AllPub</td>\n",
              "    </tr>\n",
              "    <tr>\n",
              "      <th>3</th>\n",
              "      <td>0.045836</td>\n",
              "      <td>-2.429816</td>\n",
              "      <td>-1.111017</td>\n",
              "      <td>-0.773707</td>\n",
              "      <td>-0.066932</td>\n",
              "      <td>1.274692</td>\n",
              "      <td>AllPub</td>\n",
              "    </tr>\n",
              "    <tr>\n",
              "      <th>4</th>\n",
              "      <td>0.476769</td>\n",
              "      <td>0.564086</td>\n",
              "      <td>1.475446</td>\n",
              "      <td>0.904807</td>\n",
              "      <td>-0.066932</td>\n",
              "      <td>-1.422482</td>\n",
              "      <td>AllPub</td>\n",
              "    </tr>\n",
              "  </tbody>\n",
              "</table>\n",
              "</div>\n",
              "    <div class=\"colab-df-buttons\">\n",
              "\n",
              "  <div class=\"colab-df-container\">\n",
              "    <button class=\"colab-df-convert\" onclick=\"convertToInteractive('df-4d232bac-cbfb-40d9-95d4-8aa84d651af3')\"\n",
              "            title=\"Convert this dataframe to an interactive table.\"\n",
              "            style=\"display:none;\">\n",
              "\n",
              "  <svg xmlns=\"http://www.w3.org/2000/svg\" height=\"24px\" viewBox=\"0 -960 960 960\">\n",
              "    <path d=\"M120-120v-720h720v720H120Zm60-500h600v-160H180v160Zm220 220h160v-160H400v160Zm0 220h160v-160H400v160ZM180-400h160v-160H180v160Zm440 0h160v-160H620v160ZM180-180h160v-160H180v160Zm440 0h160v-160H620v160Z\"/>\n",
              "  </svg>\n",
              "    </button>\n",
              "\n",
              "  <style>\n",
              "    .colab-df-container {\n",
              "      display:flex;\n",
              "      gap: 12px;\n",
              "    }\n",
              "\n",
              "    .colab-df-convert {\n",
              "      background-color: #E8F0FE;\n",
              "      border: none;\n",
              "      border-radius: 50%;\n",
              "      cursor: pointer;\n",
              "      display: none;\n",
              "      fill: #1967D2;\n",
              "      height: 32px;\n",
              "      padding: 0 0 0 0;\n",
              "      width: 32px;\n",
              "    }\n",
              "\n",
              "    .colab-df-convert:hover {\n",
              "      background-color: #E2EBFA;\n",
              "      box-shadow: 0px 1px 2px rgba(60, 64, 67, 0.3), 0px 1px 3px 1px rgba(60, 64, 67, 0.15);\n",
              "      fill: #174EA6;\n",
              "    }\n",
              "\n",
              "    .colab-df-buttons div {\n",
              "      margin-bottom: 4px;\n",
              "    }\n",
              "\n",
              "    [theme=dark] .colab-df-convert {\n",
              "      background-color: #3B4455;\n",
              "      fill: #D2E3FC;\n",
              "    }\n",
              "\n",
              "    [theme=dark] .colab-df-convert:hover {\n",
              "      background-color: #434B5C;\n",
              "      box-shadow: 0px 1px 3px 1px rgba(0, 0, 0, 0.15);\n",
              "      filter: drop-shadow(0px 1px 2px rgba(0, 0, 0, 0.3));\n",
              "      fill: #FFFFFF;\n",
              "    }\n",
              "  </style>\n",
              "\n",
              "    <script>\n",
              "      const buttonEl =\n",
              "        document.querySelector('#df-4d232bac-cbfb-40d9-95d4-8aa84d651af3 button.colab-df-convert');\n",
              "      buttonEl.style.display =\n",
              "        google.colab.kernel.accessAllowed ? 'block' : 'none';\n",
              "\n",
              "      async function convertToInteractive(key) {\n",
              "        const element = document.querySelector('#df-4d232bac-cbfb-40d9-95d4-8aa84d651af3');\n",
              "        const dataTable =\n",
              "          await google.colab.kernel.invokeFunction('convertToInteractive',\n",
              "                                                    [key], {});\n",
              "        if (!dataTable) return;\n",
              "\n",
              "        const docLinkHtml = 'Like what you see? Visit the ' +\n",
              "          '<a target=\"_blank\" href=https://colab.research.google.com/notebooks/data_table.ipynb>data table notebook</a>'\n",
              "          + ' to learn more about interactive tables.';\n",
              "        element.innerHTML = '';\n",
              "        dataTable['output_type'] = 'display_data';\n",
              "        await google.colab.output.renderOutput(dataTable, element);\n",
              "        const docLink = document.createElement('div');\n",
              "        docLink.innerHTML = docLinkHtml;\n",
              "        element.appendChild(docLink);\n",
              "      }\n",
              "    </script>\n",
              "  </div>\n",
              "\n",
              "\n",
              "    <div id=\"df-7206e254-6728-4835-b11f-36f50add43fb\">\n",
              "      <button class=\"colab-df-quickchart\" onclick=\"quickchart('df-7206e254-6728-4835-b11f-36f50add43fb')\"\n",
              "                title=\"Suggest charts\"\n",
              "                style=\"display:none;\">\n",
              "\n",
              "<svg xmlns=\"http://www.w3.org/2000/svg\" height=\"24px\"viewBox=\"0 0 24 24\"\n",
              "     width=\"24px\">\n",
              "    <g>\n",
              "        <path d=\"M19 3H5c-1.1 0-2 .9-2 2v14c0 1.1.9 2 2 2h14c1.1 0 2-.9 2-2V5c0-1.1-.9-2-2-2zM9 17H7v-7h2v7zm4 0h-2V7h2v10zm4 0h-2v-4h2v4z\"/>\n",
              "    </g>\n",
              "</svg>\n",
              "      </button>\n",
              "\n",
              "<style>\n",
              "  .colab-df-quickchart {\n",
              "      --bg-color: #E8F0FE;\n",
              "      --fill-color: #1967D2;\n",
              "      --hover-bg-color: #E2EBFA;\n",
              "      --hover-fill-color: #174EA6;\n",
              "      --disabled-fill-color: #AAA;\n",
              "      --disabled-bg-color: #DDD;\n",
              "  }\n",
              "\n",
              "  [theme=dark] .colab-df-quickchart {\n",
              "      --bg-color: #3B4455;\n",
              "      --fill-color: #D2E3FC;\n",
              "      --hover-bg-color: #434B5C;\n",
              "      --hover-fill-color: #FFFFFF;\n",
              "      --disabled-bg-color: #3B4455;\n",
              "      --disabled-fill-color: #666;\n",
              "  }\n",
              "\n",
              "  .colab-df-quickchart {\n",
              "    background-color: var(--bg-color);\n",
              "    border: none;\n",
              "    border-radius: 50%;\n",
              "    cursor: pointer;\n",
              "    display: none;\n",
              "    fill: var(--fill-color);\n",
              "    height: 32px;\n",
              "    padding: 0;\n",
              "    width: 32px;\n",
              "  }\n",
              "\n",
              "  .colab-df-quickchart:hover {\n",
              "    background-color: var(--hover-bg-color);\n",
              "    box-shadow: 0 1px 2px rgba(60, 64, 67, 0.3), 0 1px 3px 1px rgba(60, 64, 67, 0.15);\n",
              "    fill: var(--button-hover-fill-color);\n",
              "  }\n",
              "\n",
              "  .colab-df-quickchart-complete:disabled,\n",
              "  .colab-df-quickchart-complete:disabled:hover {\n",
              "    background-color: var(--disabled-bg-color);\n",
              "    fill: var(--disabled-fill-color);\n",
              "    box-shadow: none;\n",
              "  }\n",
              "\n",
              "  .colab-df-spinner {\n",
              "    border: 2px solid var(--fill-color);\n",
              "    border-color: transparent;\n",
              "    border-bottom-color: var(--fill-color);\n",
              "    animation:\n",
              "      spin 1s steps(1) infinite;\n",
              "  }\n",
              "\n",
              "  @keyframes spin {\n",
              "    0% {\n",
              "      border-color: transparent;\n",
              "      border-bottom-color: var(--fill-color);\n",
              "      border-left-color: var(--fill-color);\n",
              "    }\n",
              "    20% {\n",
              "      border-color: transparent;\n",
              "      border-left-color: var(--fill-color);\n",
              "      border-top-color: var(--fill-color);\n",
              "    }\n",
              "    30% {\n",
              "      border-color: transparent;\n",
              "      border-left-color: var(--fill-color);\n",
              "      border-top-color: var(--fill-color);\n",
              "      border-right-color: var(--fill-color);\n",
              "    }\n",
              "    40% {\n",
              "      border-color: transparent;\n",
              "      border-right-color: var(--fill-color);\n",
              "      border-top-color: var(--fill-color);\n",
              "    }\n",
              "    60% {\n",
              "      border-color: transparent;\n",
              "      border-right-color: var(--fill-color);\n",
              "    }\n",
              "    80% {\n",
              "      border-color: transparent;\n",
              "      border-right-color: var(--fill-color);\n",
              "      border-bottom-color: var(--fill-color);\n",
              "    }\n",
              "    90% {\n",
              "      border-color: transparent;\n",
              "      border-bottom-color: var(--fill-color);\n",
              "    }\n",
              "  }\n",
              "</style>\n",
              "\n",
              "      <script>\n",
              "        async function quickchart(key) {\n",
              "          const quickchartButtonEl =\n",
              "            document.querySelector('#' + key + ' button');\n",
              "          quickchartButtonEl.disabled = true;  // To prevent multiple clicks.\n",
              "          quickchartButtonEl.classList.add('colab-df-spinner');\n",
              "          try {\n",
              "            const charts = await google.colab.kernel.invokeFunction(\n",
              "                'suggestCharts', [key], {});\n",
              "          } catch (error) {\n",
              "            console.error('Error during call to suggestCharts:', error);\n",
              "          }\n",
              "          quickchartButtonEl.classList.remove('colab-df-spinner');\n",
              "          quickchartButtonEl.classList.add('colab-df-quickchart-complete');\n",
              "        }\n",
              "        (() => {\n",
              "          let quickchartButtonEl =\n",
              "            document.querySelector('#df-7206e254-6728-4835-b11f-36f50add43fb button');\n",
              "          quickchartButtonEl.style.display =\n",
              "            google.colab.kernel.accessAllowed ? 'block' : 'none';\n",
              "        })();\n",
              "      </script>\n",
              "    </div>\n",
              "\n",
              "    </div>\n",
              "  </div>\n"
            ],
            "application/vnd.google.colaboratory.intrinsic+json": {
              "type": "dataframe",
              "summary": "{\n  \"name\": \"display(X\",\n  \"rows\": 5,\n  \"fields\": [\n    {\n      \"column\": \"LotArea\",\n      \"properties\": {\n        \"dtype\": \"number\",\n        \"std\": 0.2723786344254674,\n        \"min\": -0.21312672156739387,\n        \"max\": 0.47676912832183754,\n        \"num_unique_values\": 5,\n        \"samples\": [\n          -0.21312672156739387,\n          0.47676912832183754,\n          -0.15941593664622475\n        ],\n        \"semantic_type\": \"\",\n        \"description\": \"\"\n      }\n    },\n    {\n      \"column\": \"TotalBsmtSF\",\n      \"properties\": {\n        \"dtype\": \"number\",\n        \"std\": 1.1646875627714657,\n        \"min\": -2.429816220259725,\n        \"max\": 0.5640859151900829,\n        \"num_unique_values\": 5,\n        \"samples\": [\n          -0.014490264360033363,\n          0.5640859151900829,\n          -0.11551150205926002\n        ],\n        \"semantic_type\": \"\",\n        \"description\": \"\"\n      }\n    },\n    {\n      \"column\": \"GrLivArea\",\n      \"properties\": {\n        \"dtype\": \"number\",\n        \"std\": 1.072314110302112,\n        \"min\": -1.1110170724600945,\n        \"max\": 1.475446094417143,\n        \"num_unique_values\": 5,\n        \"samples\": [\n          -0.8784831694689207,\n          1.475446094417143,\n          -0.9242275438278401\n        ],\n        \"semantic_type\": \"\",\n        \"description\": \"\"\n      }\n    },\n    {\n      \"column\": \"GarageArea\",\n      \"properties\": {\n        \"dtype\": \"number\",\n        \"std\": 0.7305534168673519,\n        \"min\": -0.8672180598952345,\n        \"max\": 0.9048073180417759,\n        \"num_unique_values\": 5,\n        \"samples\": [\n          -0.8672180598952345,\n          0.9048073180417759,\n          -0.5305799933742192\n        ],\n        \"semantic_type\": \"\",\n        \"description\": \"\"\n      }\n    },\n    {\n      \"column\": \"PoolArea\",\n      \"properties\": {\n        \"dtype\": \"number\",\n        \"std\": 0.0,\n        \"min\": -0.06693154728416825,\n        \"max\": -0.06693154728416825,\n        \"num_unique_values\": 1,\n        \"samples\": [\n          -0.06693154728416825\n        ],\n        \"semantic_type\": \"\",\n        \"description\": \"\"\n      }\n    },\n    {\n      \"column\": \"OverallCond\",\n      \"properties\": {\n        \"dtype\": \"number\",\n        \"std\": 1.0250838768572839,\n        \"min\": -1.4224822329209907,\n        \"max\": 1.2746918710590691,\n        \"num_unique_values\": 4,\n        \"samples\": [\n          0.3756338363990491\n        ],\n        \"semantic_type\": \"\",\n        \"description\": \"\"\n      }\n    },\n    {\n      \"column\": \"Utilities\",\n      \"properties\": {\n        \"dtype\": \"category\",\n        \"num_unique_values\": 1,\n        \"samples\": [\n          \"AllPub\"\n        ],\n        \"semantic_type\": \"\",\n        \"description\": \"\"\n      }\n    }\n  ]\n}"
            }
          },
          "metadata": {}
        }
      ],
      "source": [
        "from sklearn.preprocessing import StandardScaler\n",
        "numerical_cols = X.select_dtypes(include=np.number).columns\n",
        "scaler = StandardScaler()\n",
        "X[numerical_cols] = scaler.fit_transform(X[numerical_cols])\n",
        "display(X.head())"
      ]
    },
    {
      "cell_type": "markdown",
      "metadata": {
        "id": "xcZxb-V4AaTN"
      },
      "source": [
        "### **Conversion to NumPy**"
      ]
    },
    {
      "cell_type": "markdown",
      "metadata": {
        "id": "6-_3l_1iAaTN"
      },
      "source": [
        "Ok so now that we have all preprocessed all the data, we need to convert it to numpy for our linear regression model\n",
        "  \n",
        "Assume that our dataset has a total of $N$ datapoints. Each datapoint having a total of $D$ features (after one-hot encoding), we want our numpy array to be of shape $(N, D)$"
      ]
    },
    {
      "cell_type": "markdown",
      "metadata": {
        "id": "QJmGKlEgAaTN"
      },
      "source": [
        "In our task, we have to predict the `SalePrice`. We will need 2 numpy arrays $\n",
        "\n",
        "*   List item\n",
        "*   List item\n",
        "\n",
        "(X, Y)$. These represent the features and targets respectively"
      ]
    },
    {
      "cell_type": "code",
      "execution_count": 30,
      "metadata": {
        "id": "XJk8M5QmAaTN",
        "colab": {
          "base_uri": "https://localhost:8080/"
        },
        "outputId": "6d820664-18d3-4751-ad87-9673d168e918"
      },
      "outputs": [
        {
          "output_type": "stream",
          "name": "stdout",
          "text": [
            "[[11553 1051 1159 ... 5 'AllPub' 158000]\n",
            " [8400 1052 1052 ... 5 'AllPub' 138500]\n",
            " [8960 1008 1028 ... 6 'AllPub' 115000]\n",
            " ...\n",
            " [8885 864 902 ... 5 'AllPub' 131000]\n",
            " [11275 710 2978 ... 7 'AllPub' 242000]\n",
            " [10206 0 944 ... 3 'AllPub' 82000]]\n"
          ]
        }
      ],
      "source": [
        "# Convert to numpy array\n",
        "\n",
        "np_array = df.to_numpy()\n",
        "print(np_array)"
      ]
    },
    {
      "cell_type": "markdown",
      "metadata": {
        "id": "J7YT1X-3AaTN"
      },
      "source": [
        "## Linear Regression formulation\n",
        "  \n",
        "We now have our data in the form we need. Let's try to create a linear model to get our initial (Really bad) prediction\n"
      ]
    },
    {
      "cell_type": "markdown",
      "metadata": {
        "id": "upgXFnXgAaTN"
      },
      "source": [
        "Let's say a single datapoint in our dataset consists of 3 features $(x_1, x_2, x_3)$, we can pose it as a linear equation as follows:\n",
        "$$ y = w_1x_1 + w_2x_2 + w_3x_3 + b $$\n",
        "Here we have to learn 4 parameters $(w_1, w_2, w_3, b)$\n",
        "  \n",
        "  \n",
        "Now how do we extend this to multiple datapoints?  \n",
        "  \n",
        "  \n",
        "Try to answer the following:\n",
        "- How many parameters will we have to learn in the cae of our dataset? (Don't forget the bias term)\n",
        "- Form a linear equation for our dataset. We need just a single matrix equation which correctly represents all the datapoints in our dataset\n",
        "- Implement the linear equation as an equation using NumPy arrays (Start by randomly initializing the weights from a standard normal distribution)"
      ]
    },
    {
      "cell_type": "code",
      "execution_count": 31,
      "metadata": {
        "id": "IvB5DGT7AaTO",
        "colab": {
          "base_uri": "https://localhost:8080/"
        },
        "outputId": "26ef025e-0926-4be6-afa0-95e54fbc72d6"
      },
      "outputs": [
        {
          "output_type": "stream",
          "name": "stdout",
          "text": [
            "Shape of X_train_scaled: (1051, 7)\n",
            "Shape of weights: (7,)\n",
            "Shape of predictions: (1051,)\n"
          ]
        }
      ],
      "source": [
        "import pandas as pd\n",
        "df = pd.read_csv('https://raw.githubusercontent.com/cronan03/DevSoc_AI-ML/main/train_processed_splitted.csv')\n",
        "df = pd.get_dummies(df, columns=['Utilities'], drop_first=True)\n",
        "np_array = df.to_numpy()\n",
        "X = df.drop('SalePrice', axis=1).to_numpy()\n",
        "y = df['SalePrice'].to_numpy()\n",
        "X_train, X_test, y_train, y_test = train_test_split(X, y, test_size=0.2, random_state=42)\n",
        "from sklearn.preprocessing import StandardScaler\n",
        "scaler = StandardScaler()\n",
        "X_train_scaled = scaler.fit_transform(X_train)\n",
        "\n",
        "n_features = X_train_scaled.shape[1]\n",
        "weights = np.random.randn(n_features)\n",
        "bias = np.random.randn()\n",
        "\n",
        "y_pred = np.dot(X_train_scaled, weights) + bias\n",
        "\n",
        "print(\"Shape of X_train_scaled:\", X_train_scaled.shape)\n",
        "print(\"Shape of weights:\", weights.shape)\n",
        "print(\"Shape of predictions:\", y_pred.shape)"
      ]
    },
    {
      "cell_type": "markdown",
      "metadata": {
        "id": "_ldc0Ap_AaTO"
      },
      "source": [
        "How well does our model perform? Try comparing our predictions with the actual values"
      ]
    },
    {
      "cell_type": "code",
      "execution_count": 32,
      "metadata": {
        "id": "TnnX7hG5AaTO",
        "colab": {
          "base_uri": "https://localhost:8080/"
        },
        "outputId": "89d4aeee-ff33-4754-a02b-cf835995eb5d"
      },
      "outputs": [
        {
          "output_type": "stream",
          "name": "stdout",
          "text": [
            "Mean Squared Error: 38303090828.03308\n"
          ]
        }
      ],
      "source": [
        "from sklearn.metrics import mean_squared_error\n",
        "\n",
        "mse = mean_squared_error(y_train, y_pred)\n",
        "\n",
        "print(f\"Mean Squared Error: {mse}\")"
      ]
    },
    {
      "cell_type": "markdown",
      "metadata": {
        "id": "MryM_jtQAaTO"
      },
      "source": [
        "### **Learning weights using gradient descent**"
      ]
    },
    {
      "cell_type": "markdown",
      "metadata": {
        "id": "kq9rq3T9AaTO"
      },
      "source": [
        "So these results are really horrible. We need to somehow update our weights so that it correclty represents our data. How do we do that?"
      ]
    },
    {
      "cell_type": "markdown",
      "metadata": {
        "id": "5EKd0mhkAaTO"
      },
      "source": [
        "We must do the following:\n",
        "- We need some numerical indication for our performance, for this we define a Loss Function ( $\\mathscr{L}$ )\n",
        "- Find the gradients of the `Loss` with respect to the `Weights`\n",
        "- Update the weights in accordance to the gradients: $W = W - \\alpha\\nabla_W \\mathscr{L}$"
      ]
    },
    {
      "cell_type": "markdown",
      "metadata": {
        "id": "uUfs8wh3AaTO"
      },
      "source": [
        "Lets define the loss function:\n",
        "- We will use the MSE loss since it is a regression task. (Specify the assumptions we make while doing so as taught in the class).\n",
        "- Implement this loss as a function. (Use numpy as much as possible)"
      ]
    },
    {
      "cell_type": "code",
      "execution_count": 33,
      "metadata": {
        "id": "b4G28aKRAaTO",
        "colab": {
          "base_uri": "https://localhost:8080/"
        },
        "outputId": "9cb6dc94-868e-4bd2-ae35-5ded84cb8adf"
      },
      "outputs": [
        {
          "output_type": "stream",
          "name": "stdout",
          "text": [
            "Initial Cost: 19151545414.01654\n"
          ]
        }
      ],
      "source": [
        "def mse_loss_fn(y_true, y_pred):\n",
        "    m = len(y_true)\n",
        "    cost = (1 / (2 * m)) * np.sum((y_pred - y_true) ** 2)\n",
        "    return cost\n",
        "\n",
        "cost = mse_loss_fn(y_train, y_pred)\n",
        "print(\"Initial Cost:\", cost)\n"
      ]
    },
    {
      "cell_type": "markdown",
      "metadata": {
        "id": "eUnb9WpfAaTP"
      },
      "source": [
        "Calculate the gradients of the loss with respect to the weights (and biases). First write the equations down on a piece of paper, then proceed to implement it"
      ]
    },
    {
      "cell_type": "code",
      "execution_count": 34,
      "metadata": {
        "id": "BDYpZjjMAaTP"
      },
      "outputs": [],
      "source": [
        "def gradient_descent(X, y, weights, bias, learning_rate, n_iters):\n",
        "    m = len(y)\n",
        "    loss_history = []\n",
        "\n",
        "    for i in range(n_iters):\n",
        "        y_pred = np.dot(X, weights) + bias\n",
        "        error = y_pred - y\n",
        "\n",
        "        dw = (1/m) * np.dot(X.T, error)\n",
        "        db = (1/m) * np.sum(error)\n",
        "\n",
        "        weights -= learning_rate * dw\n",
        "        bias -= learning_rate * db\n",
        "        cost = (1 / (2 * m)) * np.sum(error ** 2)\n",
        "        loss_history.append(cost)\n",
        "        if i % 100 == 0:\n",
        "            print(f\"Iteration {i}, Cost: {cost:.4f}\")\n",
        "\n",
        "    return weights, bias, loss_history\n",
        "\n"
      ]
    },
    {
      "cell_type": "markdown",
      "metadata": {
        "id": "hfbjlNBXAaTP"
      },
      "source": [
        "Update the weights using the gradients"
      ]
    },
    {
      "cell_type": "code",
      "execution_count": 35,
      "metadata": {
        "id": "9Xstl9DpAaTP"
      },
      "outputs": [],
      "source": [
        "def update(weights, bias, gradients_weights, gradients_bias, lr):\n",
        "    \"\"\"\n",
        "    Updates the weights (and bias) using the gradients and the learning rate\n",
        "\n",
        "    Args:\n",
        "        weights: The current weights of the model\n",
        "        bias: The current bias of the model\n",
        "\n",
        "        gradients_weights: The gradients of the loss function with respect to the weights\n",
        "        gradients_bias: The gradients of the loss function with respect to the bias\n",
        "\n",
        "        lr: The learning rate\n",
        "\n",
        "    Returns:\n",
        "        weights_new: The updated weights of the model\n",
        "\n",
        "    \"\"\"\n",
        "    weights_new = weights - lr * gradients_weights\n",
        "    bias_new = bias - lr * gradients_bias\n",
        "    return weights_new, bias_new"
      ]
    },
    {
      "cell_type": "markdown",
      "metadata": {
        "id": "wZqXDTjFAaTP"
      },
      "source": [
        "Put all these together to find the loss value, its gradient and finally updating the weights in a loop. Feel free to play around with different learning rates and epochs\n",
        "  \n",
        "> NOTE: The code in comments are just meant to be used as a guide. You will have to do changes based on your code"
      ]
    },
    {
      "cell_type": "code",
      "execution_count": 38,
      "metadata": {
        "id": "a3BVX4nlAaTP",
        "colab": {
          "base_uri": "https://localhost:8080/"
        },
        "outputId": "5a3fea33-4691-479a-bafc-f3f4cc1f8498"
      },
      "outputs": [
        {
          "output_type": "stream",
          "name": "stdout",
          "text": [
            "Iteration 0, Cost: 19151545414.0165\n",
            "Iteration 100, Cost: 3289185098.3574\n",
            "Iteration 200, Cost: 1352636934.5807\n",
            "Iteration 300, Cost: 1092450412.4642\n",
            "Iteration 400, Cost: 1056760044.5293\n",
            "Iteration 500, Cost: 1051716183.3319\n",
            "Iteration 600, Cost: 1050955067.6040\n",
            "Iteration 700, Cost: 1050824176.5341\n",
            "Iteration 800, Cost: 1050796585.5497\n",
            "Iteration 900, Cost: 1050789336.8712\n"
          ]
        }
      ],
      "source": [
        "NUM_EPOCHS = 1000\n",
        "LEARNING_RATE = 0.01\n",
        "\n",
        "losses = []\n",
        "weights, bias, losses = gradient_descent(X_train_scaled, y_train, weights, bias, LEARNING_RATE, NUM_EPOCHS)\n"
      ]
    },
    {
      "cell_type": "markdown",
      "metadata": {
        "id": "uYgND-OLAaTQ"
      },
      "source": [
        "Now use matplotlib to plot the loss graph"
      ]
    },
    {
      "cell_type": "code",
      "execution_count": 39,
      "metadata": {
        "id": "RxFqG5GSAaTQ",
        "colab": {
          "base_uri": "https://localhost:8080/",
          "height": 465
        },
        "outputId": "0fab452b-cdca-4475-b9eb-77fbc6625b50"
      },
      "outputs": [
        {
          "output_type": "display_data",
          "data": {
            "text/plain": [
              "<Figure size 640x480 with 1 Axes>"
            ],
            "image/png": "[encoded data removed]"
          },
          "metadata": {}
        }
      ],
      "source": [
        "plt.plot(losses)\n",
        "plt.xlabel('Epochs')\n",
        "plt.ylabel('Loss')\n",
        "plt.show()"
      ]
    },
    {
      "cell_type": "markdown",
      "metadata": {
        "id": "kaZdAzbvAaTQ"
      },
      "source": [
        "### **Testing with test data**"
      ]
    },
    {
      "cell_type": "markdown",
      "metadata": {
        "id": "vuSbgtM6AaTQ"
      },
      "source": [
        "Load and apply all the preprocessing steps used in the training data for the testing data as well. Remember to use the **SAME** min/max values which you used for the training set and not recalculate them from the test set. Also mention why we are doing this.\n",
        "\n",
        "To load test data from GitHub, use the code below.\n"
      ]
    },
    {
      "cell_type": "code",
      "execution_count": 40,
      "metadata": {
        "id": "3iuQ4ulhAaTQ",
        "colab": {
          "base_uri": "https://localhost:8080/"
        },
        "outputId": "bd3c6fb0-a542-4432-c691-d3747d2a4feb"
      },
      "outputs": [
        {
          "output_type": "stream",
          "name": "stdout",
          "text": [
            "     LotArea  TotalBsmtSF  GrLivArea  GarageArea  PoolArea  OverallCond  \\\n",
            "0      15623         2396       4476         813       555            5   \n",
            "1      11952          808       1969         534         0            6   \n",
            "2       7558          896       1913         342         0            6   \n",
            "3       6762         1187       1208         632         0            5   \n",
            "4       8529         1454       1434         527         0            5   \n",
            "..       ...          ...        ...         ...       ...          ...   \n",
            "141     9135         1536       1536         532         0            5   \n",
            "142    11639         1428       1428         480         0            5   \n",
            "143    11475         1584       1776         888         0            5   \n",
            "144     5925          907       1131         672         0            7   \n",
            "145    14559         1008       1363         288         0            7   \n",
            "\n",
            "    Utilities  SalePrice  \n",
            "0      AllPub     745000  \n",
            "1      AllPub     190000  \n",
            "2      AllPub     177000  \n",
            "3      AllPub     206000  \n",
            "4      AllPub     189000  \n",
            "..        ...        ...  \n",
            "141    AllPub     214000  \n",
            "142    AllPub     182000  \n",
            "143    AllPub     110000  \n",
            "144    AllPub      89471  \n",
            "145    AllPub     164900  \n",
            "\n",
            "[146 rows x 8 columns]\n"
          ]
        }
      ],
      "source": [
        "df_test = pd.read_csv('https://raw.githubusercontent.com/cronan03/DevSoc_AI-ML/main/test_processed_splitted.csv')\n",
        "print(df_test)\n",
        "\n",
        "# Let's find all the columns that are missing in the test set\n",
        "missing_cols = set(df.columns) - set(df_test.columns)\n",
        "\n",
        "# Add these columns to the test set with all zeros\n",
        "for col in missing_cols:\n",
        "    df_test[col] = 0\n",
        "\n",
        "if 'Utilities_AllPub' not in df_test.columns:\n",
        "    df_test = df_test.join(pd.get_dummies(df_test['Utilities'], dtype = 'int32', prefix = 'Utilities'))\n",
        "    df_test = df_test.drop('Utilities', axis = 1)\n",
        "\n"
      ]
    },
    {
      "cell_type": "markdown",
      "metadata": {
        "id": "KxqOWigRAaTQ"
      },
      "source": [
        "Using the weights learnt above, predict the values in the test dataset. Also answer the following questions:\n",
        "- Are the predictions good?\n",
        "- What is the MSE loss for the testset\n",
        "- Is the MSE loss for testing greater or lower than training\n",
        "- Why is this the case"
      ]
    },
    {
      "cell_type": "code",
      "execution_count": 41,
      "metadata": {
        "id": "xvF1EJfZAaTQ",
        "colab": {
          "base_uri": "https://localhost:8080/"
        },
        "outputId": "2352883b-418f-4bea-d586-8fc2a1da3979"
      },
      "outputs": [
        {
          "output_type": "stream",
          "name": "stdout",
          "text": [
            "(146, 8)\n"
          ]
        }
      ],
      "source": [
        "# Scale the features\n",
        "\n",
        "# Fill NaN values\n",
        "df_test.fillna(0, inplace=True)\n",
        "\n",
        "# Scale features\n",
        "\n",
        "\n",
        "# Check for unexpected NaNs\n",
        "\n",
        "\n",
        "\n",
        "\n",
        "# Convert to numpy array\n",
        "x_test = df_test.copy().drop('SalePrice', axis=1).to_numpy() # (N, D)\n",
        "y_test = df_test.copy()['SalePrice'].to_numpy().reshape(-1, 1) # (N, 1)\n",
        "print(x_test.shape)\n"
      ]
    },
    {
      "cell_type": "code",
      "source": [
        "extra_cols = list(set(df_test.columns) - set(df.columns))\n",
        "print(\"Extra columns in df_test:\", extra_cols)\n",
        "\n",
        "missing_cols = list(set(df.columns) - set(df_test.columns))\n",
        "print(\"Missing columns in df_test:\", missing_cols)"
      ],
      "metadata": {
        "id": "MkmpTFp8yi1L",
        "colab": {
          "base_uri": "https://localhost:8080/"
        },
        "outputId": "3df41355-92b5-4088-e719-7e79b5312b7e"
      },
      "execution_count": 42,
      "outputs": [
        {
          "output_type": "stream",
          "name": "stdout",
          "text": [
            "Extra columns in df_test: ['Utilities_AllPub']\n",
            "Missing columns in df_test: []\n"
          ]
        }
      ]
    },
    {
      "cell_type": "code",
      "source": [
        "df_test_processed = df_test.copy()\n",
        "df_test_processed.fillna(0, inplace=True)\n",
        "if 'Utilities' in df_test_processed.columns:\n",
        "  df_test_processed = pd.get_dummies(df_test_processed, columns=['Utilities'], drop_first=True)\n",
        "\n",
        "missing_cols = set(df.columns) - set(df_test_processed.columns)\n",
        "for c in missing_cols:\n",
        "    df_test_processed[c] = 0\n",
        "\n",
        "extra_cols = set(df_test_processed.columns) - set(df.columns)\n",
        "for c in extra_cols:\n",
        "    df_test_processed = df_test_processed.drop(c, axis=1)\n",
        "\n",
        "df_test_processed = df_test_processed[df.columns]\n",
        "X_test = df_test_processed.drop('SalePrice', axis=1)\n",
        "y_test = df_test_processed['SalePrice'].to_numpy().reshape(-1, 1)\n",
        "X_test_scaled = scaler.transform(X_test)\n",
        "y_pred_test = np.dot(X_test_scaled, weights) + bias\n",
        "\n",
        "loss_test = mse_loss_fn(y_test.flatten(), y_pred_test.flatten())\n",
        "print(\"Shape of X_test_scaled:\", X_test_scaled.shape)\n",
        "print(\"Shape of y_test:\", y_test.shape)\n",
        "print(\"Shape of y_pred_test:\", y_pred_test.shape)\n",
        "print(\"\\nTest Loss (MSE):\", loss_test)\n"
      ],
      "metadata": {
        "id": "Z-TbJp0ntTip",
        "colab": {
          "base_uri": "https://localhost:8080/"
        },
        "outputId": "b0fca344-50de-4e1a-fdd5-311b0ca432e8"
      },
      "execution_count": 43,
      "outputs": [
        {
          "output_type": "stream",
          "name": "stdout",
          "text": [
            "Shape of X_test_scaled: (146, 7)\n",
            "Shape of y_test: (146, 1)\n",
            "Shape of y_pred_test: (146,)\n",
            "\n",
            "Test Loss (MSE): 1579698043.2924702\n"
          ]
        },
        {
          "output_type": "stream",
          "name": "stderr",
          "text": [
            "/usr/local/lib/python3.12/dist-packages/sklearn/utils/validation.py:2732: UserWarning: X has feature names, but StandardScaler was fitted without feature names\n",
            "  warnings.warn(\n"
          ]
        }
      ]
    },
    {
      "cell_type": "code",
      "source": [
        "idx = np.random.randint(0, y_test.shape[0], 5)\n",
        "y_pred_test_sample = y_pred_test[idx].round().astype(int)\n",
        "y_true_test_sample = y_test[idx].flatten().round().astype(int)\n",
        "\n",
        "print('Predicted SalePrice: \\t', y_pred_test_sample.squeeze().tolist())\n",
        "print('Actual SalePrice: \\t', y_true_test_sample.squeeze().tolist())\n",
        "\n",
        "print('\\nTest Loss: \\t\\t', loss_test)"
      ],
      "metadata": {
        "id": "GIGSX11u62JU",
        "colab": {
          "base_uri": "https://localhost:8080/"
        },
        "outputId": "189a7440-a114-4249-8831-ad47cdca6061"
      },
      "execution_count": 44,
      "outputs": [
        {
          "output_type": "stream",
          "name": "stdout",
          "text": [
            "Predicted SalePrice: \t [193905, 189044, 158045, 144894, 144894]\n",
            "Actual SalePrice: \t [181000, 175000, 149000, 139600, 139600]\n",
            "\n",
            "Test Loss: \t\t 1579698043.2924702\n"
          ]
        }
      ]
    }
  ],
  "metadata": {
    "kernelspec": {
      "display_name": "Python 3",
      "language": "python",
      "name": "python3"
    },
    "language_info": {
      "codemirror_mode": {
        "name": "ipython",
        "version": 3
      },
      "file_extension": ".py",
      "mimetype": "text/x-python",
      "name": "python",
      "nbconvert_exporter": "python",
      "pygments_lexer": "ipython3",
      "version": "3.10.12"
    },
    "orig_nbformat": 4,
    "colab": {
      "provenance": [],
      "include_colab_link": true
    }
  },
  "nbformat": 4,
  "nbformat_minor": 0
}